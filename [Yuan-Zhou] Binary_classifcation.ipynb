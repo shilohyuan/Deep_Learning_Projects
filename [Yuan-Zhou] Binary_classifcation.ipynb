{
 "cells": [
  {
   "cell_type": "markdown",
   "metadata": {},
   "source": [
    "## Using Keras to Build and Train Neural Networks"
   ]
  },
  {
   "cell_type": "markdown",
   "metadata": {},
   "source": [
    "In this assignment you will use a neural network to predict diabetes using the Pima Diabetes Dataset.  You will use the Keras package to quickly build and train a neural network and compare the performance. \n",
    "\n",
    "\n",
    "## UCI Pima Diabetes Dataset\n",
    "\n",
    "* UCI ML Repositiory (http://archive.ics.uci.edu/ml/datasets/Pima+Indians+Diabetes)\n",
    "\n",
    "### Attributes: (all numeric-valued)\n",
    "   1. Number of times pregnant\n",
    "   2. Plasma glucose concentration a 2 hours in an oral glucose tolerance test\n",
    "   3. Diastolic blood pressure (mm Hg)\n",
    "   4. Triceps skin fold thickness (mm)\n",
    "   5. 2-Hour serum insulin (mu U/ml)\n",
    "   6. Body mass index (weight in kg/(height in m)^2)\n",
    "   7. Diabetes pedigree function\n",
    "   8. Age (years)\n",
    "   9. Class variable (0 or 1)"
   ]
  },
  {
   "cell_type": "markdown",
   "metadata": {},
   "source": [
    "The UCI Pima Diabetes Dataset which has 8 numerical predictors and a binary outcome."
   ]
  },
  {
   "cell_type": "markdown",
   "metadata": {},
   "source": [
    "## Questions\n",
    "\n",
    "### Part 1: Build a Baseline Model\n",
    "\n",
    "Use the Sequential model to quickly build a baseline neural network with one single hidden layer with 12 nodes.\\\n",
    "\n",
    "1 Read and load data into Python \\\n",
    "2 Explore and pre-process the dataset \\\n",
    "3 Split the data to training and testing dataset (75%, 25%)\\\n",
    "4 Build the baseline model and find how many parameters does your model have?\\\n",
    "5 Train you model with 20 epochs with RMSProp at a learning rate of .001 and a batch size of 128\\\n",
    "6 Graph the trajectory of the loss functions, accuracy on both train and test set.\\\n",
    "7 Evaluate and interpret the accuracy and loss performance during training, and testing. \n",
    "\n",
    "### Part 2: Find the Best Model\n",
    "\n",
    "Now  try four different models and see if you can improve the accuracy by focusing on different network structures (i.e, activation functions, optimization algorithms, batch sizes, number of epochs, ...), affecting the performance, training time, and level of overfitting (or underfitting).\n",
    "\n",
    "8. For all your models, plot the ROC curve for the predictions.\n",
    "9. Which model has best performance, why?\n",
    "10. Save your best model weights into a binary file.\n",
    "\n",
    "\n",
    "Submit two files: the Jupyter notebook with your code and answers and its print out PDF.\n"
   ]
  },
  {
   "cell_type": "code",
   "execution_count": 1,
   "metadata": {
    "scrolled": true
   },
   "outputs": [
    {
     "data": {
      "text/html": [
       "<div>\n",
       "<style scoped>\n",
       "    .dataframe tbody tr th:only-of-type {\n",
       "        vertical-align: middle;\n",
       "    }\n",
       "\n",
       "    .dataframe tbody tr th {\n",
       "        vertical-align: top;\n",
       "    }\n",
       "\n",
       "    .dataframe thead th {\n",
       "        text-align: right;\n",
       "    }\n",
       "</style>\n",
       "<table border=\"1\" class=\"dataframe\">\n",
       "  <thead>\n",
       "    <tr style=\"text-align: right;\">\n",
       "      <th></th>\n",
       "      <th>Pregnancies</th>\n",
       "      <th>Glucose</th>\n",
       "      <th>BloodPressure</th>\n",
       "      <th>SkinThickness</th>\n",
       "      <th>Insulin</th>\n",
       "      <th>BMI</th>\n",
       "      <th>DiabetesPedigreeFunction</th>\n",
       "      <th>Age</th>\n",
       "      <th>Outcome</th>\n",
       "    </tr>\n",
       "  </thead>\n",
       "  <tbody>\n",
       "    <tr>\n",
       "      <th>count</th>\n",
       "      <td>768.000000</td>\n",
       "      <td>768.000000</td>\n",
       "      <td>768.000000</td>\n",
       "      <td>768.000000</td>\n",
       "      <td>768.000000</td>\n",
       "      <td>768.000000</td>\n",
       "      <td>768.000000</td>\n",
       "      <td>768.000000</td>\n",
       "      <td>768.000000</td>\n",
       "    </tr>\n",
       "    <tr>\n",
       "      <th>mean</th>\n",
       "      <td>3.845052</td>\n",
       "      <td>120.894531</td>\n",
       "      <td>69.105469</td>\n",
       "      <td>20.536458</td>\n",
       "      <td>79.799479</td>\n",
       "      <td>31.992578</td>\n",
       "      <td>0.471876</td>\n",
       "      <td>33.240885</td>\n",
       "      <td>0.348958</td>\n",
       "    </tr>\n",
       "    <tr>\n",
       "      <th>std</th>\n",
       "      <td>3.369578</td>\n",
       "      <td>31.972618</td>\n",
       "      <td>19.355807</td>\n",
       "      <td>15.952218</td>\n",
       "      <td>115.244002</td>\n",
       "      <td>7.884160</td>\n",
       "      <td>0.331329</td>\n",
       "      <td>11.760232</td>\n",
       "      <td>0.476951</td>\n",
       "    </tr>\n",
       "    <tr>\n",
       "      <th>min</th>\n",
       "      <td>0.000000</td>\n",
       "      <td>0.000000</td>\n",
       "      <td>0.000000</td>\n",
       "      <td>0.000000</td>\n",
       "      <td>0.000000</td>\n",
       "      <td>0.000000</td>\n",
       "      <td>0.078000</td>\n",
       "      <td>21.000000</td>\n",
       "      <td>0.000000</td>\n",
       "    </tr>\n",
       "    <tr>\n",
       "      <th>25%</th>\n",
       "      <td>1.000000</td>\n",
       "      <td>99.000000</td>\n",
       "      <td>62.000000</td>\n",
       "      <td>0.000000</td>\n",
       "      <td>0.000000</td>\n",
       "      <td>27.300000</td>\n",
       "      <td>0.243750</td>\n",
       "      <td>24.000000</td>\n",
       "      <td>0.000000</td>\n",
       "    </tr>\n",
       "    <tr>\n",
       "      <th>50%</th>\n",
       "      <td>3.000000</td>\n",
       "      <td>117.000000</td>\n",
       "      <td>72.000000</td>\n",
       "      <td>23.000000</td>\n",
       "      <td>30.500000</td>\n",
       "      <td>32.000000</td>\n",
       "      <td>0.372500</td>\n",
       "      <td>29.000000</td>\n",
       "      <td>0.000000</td>\n",
       "    </tr>\n",
       "    <tr>\n",
       "      <th>75%</th>\n",
       "      <td>6.000000</td>\n",
       "      <td>140.250000</td>\n",
       "      <td>80.000000</td>\n",
       "      <td>32.000000</td>\n",
       "      <td>127.250000</td>\n",
       "      <td>36.600000</td>\n",
       "      <td>0.626250</td>\n",
       "      <td>41.000000</td>\n",
       "      <td>1.000000</td>\n",
       "    </tr>\n",
       "    <tr>\n",
       "      <th>max</th>\n",
       "      <td>17.000000</td>\n",
       "      <td>199.000000</td>\n",
       "      <td>122.000000</td>\n",
       "      <td>99.000000</td>\n",
       "      <td>846.000000</td>\n",
       "      <td>67.100000</td>\n",
       "      <td>2.420000</td>\n",
       "      <td>81.000000</td>\n",
       "      <td>1.000000</td>\n",
       "    </tr>\n",
       "  </tbody>\n",
       "</table>\n",
       "</div>"
      ],
      "text/plain": [
       "       Pregnancies     Glucose  BloodPressure  SkinThickness     Insulin  \\\n",
       "count   768.000000  768.000000     768.000000     768.000000  768.000000   \n",
       "mean      3.845052  120.894531      69.105469      20.536458   79.799479   \n",
       "std       3.369578   31.972618      19.355807      15.952218  115.244002   \n",
       "min       0.000000    0.000000       0.000000       0.000000    0.000000   \n",
       "25%       1.000000   99.000000      62.000000       0.000000    0.000000   \n",
       "50%       3.000000  117.000000      72.000000      23.000000   30.500000   \n",
       "75%       6.000000  140.250000      80.000000      32.000000  127.250000   \n",
       "max      17.000000  199.000000     122.000000      99.000000  846.000000   \n",
       "\n",
       "              BMI  DiabetesPedigreeFunction         Age     Outcome  \n",
       "count  768.000000                768.000000  768.000000  768.000000  \n",
       "mean    31.992578                  0.471876   33.240885    0.348958  \n",
       "std      7.884160                  0.331329   11.760232    0.476951  \n",
       "min      0.000000                  0.078000   21.000000    0.000000  \n",
       "25%     27.300000                  0.243750   24.000000    0.000000  \n",
       "50%     32.000000                  0.372500   29.000000    0.000000  \n",
       "75%     36.600000                  0.626250   41.000000    1.000000  \n",
       "max     67.100000                  2.420000   81.000000    1.000000  "
      ]
     },
     "execution_count": 1,
     "metadata": {},
     "output_type": "execute_result"
    }
   ],
   "source": [
    "import pandas as pd\n",
    "import numpy as np\n",
    "import matplotlib.pyplot as plt\n",
    "\n",
    "from tensorflow import keras\n",
    "from tensorflow.keras import layers\n",
    "df = pd.read_csv('C:/Users/zhouy/Desktop/DAAN570/pima-indians-diabetes.csv', header = None)\n",
    "df.columns = ['Pregnancies', 'Glucose', 'BloodPressure', 'SkinThickness', 'Insulin', 'BMI', 'DiabetesPedigreeFunction', 'Age','Outcome']\n",
    "#df.head(5) \n",
    "df.describe()"
   ]
  },
  {
   "cell_type": "code",
   "execution_count": 2,
   "metadata": {},
   "outputs": [
    {
     "data": {
      "text/plain": [
       "Pregnancies                 0\n",
       "Glucose                     0\n",
       "BloodPressure               0\n",
       "SkinThickness               0\n",
       "Insulin                     0\n",
       "BMI                         0\n",
       "DiabetesPedigreeFunction    0\n",
       "Age                         0\n",
       "Outcome                     0\n",
       "dtype: int64"
      ]
     },
     "execution_count": 2,
     "metadata": {},
     "output_type": "execute_result"
    }
   ],
   "source": [
    "# Given the fact that Glucose, BloodPressue, SkinThickness, Insulin, BMI cannot be zero, drop all rows with NaN\n",
    "df[['Glucose','BloodPressure','SkinThickness','Insulin','BMI']] = df[['Glucose','BloodPressure','SkinThickness','Insulin','BMI']].replace(0,np.NaN)\n",
    "#df.head(5)\n",
    "df.isnull().sum()\n",
    "\n",
    "# Code cited from datarohitingole - fill missing NaN with medium depends on the outcomes\n",
    "# Gets two Median Valuse for Both Outcomes Seprately\n",
    "def median_target(var):   \n",
    "    temp = df[df[var].notnull()]\n",
    "    temp = temp[[var, 'Outcome']].groupby(['Outcome'])[[var]].median().reset_index()\n",
    "    return temp\n",
    "\n",
    "median_target('Insulin')\n",
    "df.loc[(df['Outcome'] == 0 ) & (df['Insulin'].isnull()), 'Insulin'] = 102.5\n",
    "df.loc[(df['Outcome'] == 1 ) & (df['Insulin'].isnull()), 'Insulin'] = 169.5\n",
    "\n",
    "median_target('Glucose')\n",
    "df.loc[(df['Outcome'] == 0 ) & (df['Glucose'].isnull()), 'Glucose'] = 107\n",
    "df.loc[(df['Outcome'] == 1 ) & (df['Glucose'].isnull()), 'Glucose'] = 140\n",
    "\n",
    "median_target(\"SkinThickness\")\n",
    "df.loc[(df['Outcome'] == 0 ) & (df['SkinThickness'].isnull()), 'SkinThickness'] = 27\n",
    "df.loc[(df['Outcome'] == 1 ) & (df['SkinThickness'].isnull()), 'SkinThickness'] = 32\n",
    "\n",
    "median_target('BloodPressure')\n",
    "df.loc[(df['Outcome'] == 0 ) & (df['BloodPressure'].isnull()), 'BloodPressure'] = 70\n",
    "df.loc[(df['Outcome'] == 1 ) & (df['BloodPressure'].isnull()), 'BloodPressure'] = 74.5\n",
    "\n",
    "median_target('BMI')\n",
    "df.loc[(df['Outcome'] == 0 ) & (df['BMI'].isnull()), 'BMI'] = 30.1\n",
    "df.loc[(df['Outcome'] == 1 ) & (df['BMI'].isnull()), 'BMI'] = 34.3\n",
    "### End of citation for filling missing values\n",
    "df.isnull().sum()"
   ]
  },
  {
   "cell_type": "code",
   "execution_count": 3,
   "metadata": {},
   "outputs": [
    {
     "data": {
      "text/plain": [
       "(array([500.,   0.,   0.,   0.,   0.,   0.,   0.,   0.,   0., 268.]),\n",
       " array([0. , 0.1, 0.2, 0.3, 0.4, 0.5, 0.6, 0.7, 0.8, 0.9, 1. ]),\n",
       " <BarContainer object of 10 artists>)"
      ]
     },
     "execution_count": 3,
     "metadata": {},
     "output_type": "execute_result"
    },
    {
     "data": {
      "image/png": "[encoded data removed]",
      "text/plain": [
       "<Figure size 432x288 with 1 Axes>"
      ]
     },
     "metadata": {
      "needs_background": "light"
     },
     "output_type": "display_data"
    }
   ],
   "source": [
    "# Assess the imbalanceness of the outcome by ploting a histogram\n",
    "plt.hist(df['Outcome'], color = 'blue', edgecolor = 'black')"
   ]
  },
  {
   "cell_type": "code",
   "execution_count": 4,
   "metadata": {},
   "outputs": [],
   "source": [
    "X = df.drop(\"Outcome\", axis=1).values\n",
    "y = df.Outcome\n",
    "#3 Split the data to training and testing dataset (75%, 25%)\n",
    "from sklearn.model_selection import train_test_split\n",
    "X_train, X_test, y_train, y_test = train_test_split(X, y, test_size = 0.25, random_state = 0)\n"
   ]
  },
  {
   "cell_type": "code",
   "execution_count": 5,
   "metadata": {},
   "outputs": [
    {
     "name": "stdout",
     "output_type": "stream",
     "text": [
      "Model: \"sequential\"\n",
      "_________________________________________________________________\n",
      "Layer (type)                 Output Shape              Param #   \n",
      "=================================================================\n",
      "dense (Dense)                (None, 12)                108       \n",
      "_________________________________________________________________\n",
      "dense_1 (Dense)              (None, 1)                 13        \n",
      "=================================================================\n",
      "Total params: 121\n",
      "Trainable params: 121\n",
      "Non-trainable params: 0\n",
      "_________________________________________________________________\n"
     ]
    }
   ],
   "source": [
    "# Use the Sequential model to quickly build \n",
    "# a baseline neural network with one single hidden layer with 12 nodes.\n",
    "import tensorflow as tf\n",
    "model1 = tf.keras.Sequential()\n",
    "model1.add(layers.Dense(12, input_shape=(8,), activation = 'relu'))\n",
    "model1.add(layers.Dense(1, activation = 'sigmoid'))\n",
    "model1.summary()"
   ]
  },
  {
   "cell_type": "markdown",
   "metadata": {},
   "source": [
    "## Question 4\n",
    "## Accoding to the output, we have 121 parameters."
   ]
  },
  {
   "cell_type": "code",
   "execution_count": 6,
   "metadata": {},
   "outputs": [],
   "source": [
    "#5 Train you model with 20 epochs with RMSProp at a learning rate of .001 and a batch size of 128\n",
    "opt = tf.keras.optimizers.RMSprop(learning_rate=0.001)\n",
    "model1.compile(optimizer = opt,loss='binary_crossentropy', metrics =['accuracy'])\n",
    "#model.summary()"
   ]
  },
  {
   "cell_type": "code",
   "execution_count": 7,
   "metadata": {},
   "outputs": [],
   "source": [
    "#Graph the trajectory of the loss functions, accuracy on both train and test set.\n",
    "history1= model1.fit(X_train, y_train, epochs = 20, batch_size = 128, validation_data=(X_test,y_test),verbose=0)"
   ]
  },
  {
   "cell_type": "code",
   "execution_count": 8,
   "metadata": {},
   "outputs": [
    {
     "data": {
      "image/png": "[encoded data removed]",
      "text/plain": [
       "<Figure size 432x288 with 1 Axes>"
      ]
     },
     "metadata": {
      "needs_background": "light"
     },
     "output_type": "display_data"
    }
   ],
   "source": [
    "# Plot loss function\n",
    "\n",
    "plt.plot(history1.history['loss'], label='loss function (training data)')\n",
    "plt.plot(history1.history['val_loss'], label='loss function (testing data)')\n",
    "\n",
    "plt.title('Trajectory for Loss Function')\n",
    "plt.ylabel('Loss function value')\n",
    "plt.xlabel('No. epoch')\n",
    "plt.legend(loc=\"upper right\")\n",
    "plt.show()"
   ]
  },
  {
   "cell_type": "code",
   "execution_count": 9,
   "metadata": {},
   "outputs": [
    {
     "data": {
      "text/plain": [
       "<matplotlib.legend.Legend at 0x233a1bc6e80>"
      ]
     },
     "execution_count": 9,
     "metadata": {},
     "output_type": "execute_result"
    },
    {
     "data": {
      "image/png": "[encoded data removed]",
      "text/plain": [
       "<Figure size 432x288 with 1 Axes>"
      ]
     },
     "metadata": {
      "needs_background": "light"
     },
     "output_type": "display_data"
    }
   ],
   "source": [
    "plt.plot(history1.history['accuracy'],label = 'accuracy (training data)')\n",
    "plt.plot(history1.history['val_accuracy'], label = 'accuracy(testing data)')\n",
    "plt.title('Trajectory for Accuracy')\n",
    "plt.ylabel('Accuracy value')\n",
    "plt.xlabel('No. epoch')\n",
    "plt.legend(loc=\"lower left\")\n"
   ]
  },
  {
   "cell_type": "code",
   "execution_count": 10,
   "metadata": {},
   "outputs": [
    {
     "name": "stdout",
     "output_type": "stream",
     "text": [
      "6/6 [==============================] - 0s 1ms/step - loss: 0.9404 - accuracy: 0.7760\n",
      "Test loss: 0.9404351115226746\n",
      "Test accuracy: 0.7760416865348816\n",
      "\n"
     ]
    }
   ],
   "source": [
    "# evaluate model on test set\n",
    "score = model1.evaluate(X_test, y_test)\n",
    "print('Test loss:', score[0])\n",
    "print('Test accuracy:', score[1])\n",
    "print(\"\")"
   ]
  },
  {
   "cell_type": "markdown",
   "metadata": {},
   "source": [
    "## Evaluate and interpret the accuracy and loss performance during training, and testing. \n",
    "Looking at the loss function trajectory, both training and testing are moving in the same direction, although with small differences, suggesting that the model is not overfitting, and is continuously doing better as the number of epches increases.\n",
    "However, the accuracy trajectory is somewhat difficult to interpret because it goes up and dones during the training and testing. Overall we do see a higher accuracy in the training data compared to the testing data (about .1 differences), it could be a suggesting of overfitting. Given that the imbalance nature of the dataset, if we guess everything as non-diabetes, the accuracy is still around .6; so we may need to use other evaluation metrics to access the performance of our model."
   ]
  },
  {
   "cell_type": "code",
   "execution_count": 11,
   "metadata": {},
   "outputs": [
    {
     "name": "stdout",
     "output_type": "stream",
     "text": [
      "Model: \"sequential_1\"\n",
      "_________________________________________________________________\n",
      "Layer (type)                 Output Shape              Param #   \n",
      "=================================================================\n",
      "dense_2 (Dense)              (None, 12)                108       \n",
      "_________________________________________________________________\n",
      "dense_3 (Dense)              (None, 5)                 65        \n",
      "_________________________________________________________________\n",
      "dense_4 (Dense)              (None, 1)                 6         \n",
      "=================================================================\n",
      "Total params: 179\n",
      "Trainable params: 179\n",
      "Non-trainable params: 0\n",
      "_________________________________________________________________\n"
     ]
    }
   ],
   "source": [
    "#Now  try four different models and see if you can improve the accuracy \n",
    "#by focusing on different network structures (i.e, activation functions, \n",
    "#optimization algorithms, batch sizes, number of epochs, ...), affecting the performance, training time, and level of overfitting (or underfitting).\n",
    "\n",
    "#8. For all your models, plot the ROC curve for the predictions.\n",
    "#9. Which model has best performance, why?\n",
    "#10. Save your best model weights into a binary file.\n",
    "\n",
    "# model#2 adding another hidden layer\n",
    "model2 = tf.keras.Sequential()\n",
    "model2.add(layers.Dense(12, input_shape=(8,), activation = 'relu'))\n",
    "model2.add(layers.Dense(5, activation ='relu'))\n",
    "model2.add(layers.Dense(1, activation = 'sigmoid'))\n",
    "model2.summary()\n",
    "#5 Train you model with 20 epochs with RMSProp at a learning rate of .001 and a batch size of 128\n",
    "opt = tf.keras.optimizers.RMSprop(learning_rate=0.001)\n",
    "model2.compile(optimizer = opt,loss='binary_crossentropy', metrics =['accuracy'])\n",
    "#model.summary()\n",
    "#Graph the trajectory of the loss functions, accuracy on both train and test set.\n",
    "history2= model2.fit(X_train, y_train, epochs = 20, batch_size = 128, validation_data=(X_test,y_test),verbose=0)\n"
   ]
  },
  {
   "cell_type": "code",
   "execution_count": 12,
   "metadata": {},
   "outputs": [
    {
     "name": "stdout",
     "output_type": "stream",
     "text": [
      "Model: \"sequential_2\"\n",
      "_________________________________________________________________\n",
      "Layer (type)                 Output Shape              Param #   \n",
      "=================================================================\n",
      "dense_5 (Dense)              (None, 12)                108       \n",
      "_________________________________________________________________\n",
      "dense_6 (Dense)              (None, 5)                 65        \n",
      "_________________________________________________________________\n",
      "dense_7 (Dense)              (None, 1)                 6         \n",
      "=================================================================\n",
      "Total params: 179\n",
      "Trainable params: 179\n",
      "Non-trainable params: 0\n",
      "_________________________________________________________________\n"
     ]
    }
   ],
   "source": [
    "#model3 based on previous model, change the loss function to mse\n",
    "model3 = tf.keras.Sequential()\n",
    "model3.add(layers.Dense(12, input_shape=(8,), activation = 'relu'))\n",
    "model3.add(layers.Dense(5, activation ='relu'))\n",
    "model3.add(layers.Dense(1, activation = 'sigmoid'))\n",
    "model3.summary()\n",
    "#5 Train you model with 20 epochs with RMSProp at a learning rate of .001 and a batch size of 128\n",
    "opt = tf.keras.optimizers.RMSprop(learning_rate=0.001)\n",
    "model3.compile(optimizer = opt,loss='mse', metrics =['accuracy'])\n",
    "#model.summary()\n",
    "#Graph the trajectory of the loss functions, accuracy on both train and test set.\n",
    "history3= model3.fit(X_train, y_train, epochs = 20, batch_size = 128, validation_data=(X_test,y_test),verbose=0)\n"
   ]
  },
  {
   "cell_type": "code",
   "execution_count": 13,
   "metadata": {},
   "outputs": [
    {
     "name": "stdout",
     "output_type": "stream",
     "text": [
      "Model: \"sequential_3\"\n",
      "_________________________________________________________________\n",
      "Layer (type)                 Output Shape              Param #   \n",
      "=================================================================\n",
      "dense_8 (Dense)              (None, 12)                108       \n",
      "_________________________________________________________________\n",
      "dense_9 (Dense)              (None, 5)                 65        \n",
      "_________________________________________________________________\n",
      "dense_10 (Dense)             (None, 1)                 6         \n",
      "=================================================================\n",
      "Total params: 179\n",
      "Trainable params: 179\n",
      "Non-trainable params: 0\n",
      "_________________________________________________________________\n"
     ]
    }
   ],
   "source": [
    "#model4 change epochs to 30\n",
    "model4 = tf.keras.Sequential()\n",
    "model4.add(layers.Dense(12, input_shape=(8,), activation = 'relu'))\n",
    "model4.add(layers.Dense(5, activation ='relu'))\n",
    "model4.add(layers.Dense(1, activation = 'sigmoid'))\n",
    "model4.summary()\n",
    "#5 Train you model with 20 epochs with RMSProp at a learning rate of .001 and a batch size of 128\n",
    "opt = tf.keras.optimizers.RMSprop(learning_rate=0.001)\n",
    "model4.compile(optimizer = opt,loss='mse', metrics =['accuracy'])\n",
    "#model.summary()\n",
    "#Graph the trajectory of the loss functions, accuracy on both train and test set.\n",
    "history4= model4.fit(X_train, y_train, epochs = 30, batch_size = 128, validation_data=(X_test,y_test),verbose=0)\n"
   ]
  },
  {
   "cell_type": "code",
   "execution_count": 14,
   "metadata": {},
   "outputs": [
    {
     "name": "stdout",
     "output_type": "stream",
     "text": [
      "Model: \"sequential_4\"\n",
      "_________________________________________________________________\n",
      "Layer (type)                 Output Shape              Param #   \n",
      "=================================================================\n",
      "dense_11 (Dense)             (None, 12)                108       \n",
      "_________________________________________________________________\n",
      "dense_12 (Dense)             (None, 5)                 65        \n",
      "_________________________________________________________________\n",
      "dense_13 (Dense)             (None, 1)                 6         \n",
      "=================================================================\n",
      "Total params: 179\n",
      "Trainable params: 179\n",
      "Non-trainable params: 0\n",
      "_________________________________________________________________\n"
     ]
    }
   ],
   "source": [
    "#model2 based on previuos model change the learning rate to 0.0002\n",
    "model5 = tf.keras.Sequential()\n",
    "model5.add(layers.Dense(12, input_shape=(8,), activation = 'relu'))\n",
    "model5.add(layers.Dense(5, activation ='relu'))\n",
    "model5.add(layers.Dense(1, activation = 'sigmoid'))\n",
    "model5.summary()\n",
    "#5 Train you model with 20 epochs with RMSProp at a learning rate of .001 and a batch size of 128\n",
    "opt = tf.keras.optimizers.RMSprop(learning_rate=0.0002)\n",
    "model5.compile(optimizer = opt,loss='mse', metrics =['accuracy'])\n",
    "#model.summary()\n",
    "#Graph the trajectory of the loss functions, accuracy on both train and test set.\n",
    "history5= model5.fit(X_train, y_train, epochs = 30, batch_size = 128, validation_data=(X_test,y_test),verbose=0)\n"
   ]
  },
  {
   "cell_type": "code",
   "execution_count": 15,
   "metadata": {},
   "outputs": [
    {
     "data": {
      "image/png": "[encoded data removed]",
      "text/plain": [
       "<Figure size 432x288 with 1 Axes>"
      ]
     },
     "metadata": {
      "needs_background": "light"
     },
     "output_type": "display_data"
    }
   ],
   "source": [
    "from sklearn.metrics import roc_curve\n",
    "y_pred2 = model2.predict(X_test)\n",
    "y_pred3 = model3.predict(X_test)\n",
    "y_pred4 = model4.predict(X_test)\n",
    "y_pred5 = model5.predict(X_test)\n",
    "\n",
    "fpr2, tpr2, thresholds2 = roc_curve(y_test, y_pred2)\n",
    "fpr3, tpr3, thresholds3 = roc_curve(y_test, y_pred3)\n",
    "fpr4, tpr4, thresholds4 = roc_curve(y_test, y_pred4)\n",
    "fpr5, tpr5, thresholds5 = roc_curve(y_test, y_pred5)\n",
    "from sklearn.metrics import auc\n",
    "\n",
    "auc2 = auc(fpr2, tpr2)\n",
    "auc3 = auc(fpr3, tpr3)\n",
    "auc4 = auc(fpr4, tpr4)\n",
    "auc5 = auc(fpr5, tpr5)\n",
    "import matplotlib.pyplot as plt\n",
    "plt.title('Receiver Operating Characteristic')\n",
    "\n",
    "plt.plot(fpr2,tpr2,label = 'AUC for model 2 = %0.2f' % auc2)\n",
    "plt.plot(fpr3,tpr3,label = 'AUC for model 3 = %0.2f' % auc3)\n",
    "plt.plot(fpr4,tpr4,label = 'AUC for model 4 = %0.2f' % auc4)\n",
    "plt.plot(fpr5, tpr5, 'b', label = 'AUC for model 5 = %0.2f' % auc5)\n",
    "\n",
    "plt.legend(loc = 'lower right')\n",
    "plt.plot([0, 1], [0, 1],'r--')\n",
    "plt.xlim([0, 1])\n",
    "plt.ylim([0, 1])\n",
    "plt.ylabel('True Positive Rate')\n",
    "plt.xlabel('False Positive Rate')\n",
    "plt.show()"
   ]
  },
  {
   "cell_type": "markdown",
   "metadata": {},
   "source": [
    "### 9. Which model has best performance, why?\n",
    "My model number 4 has the best performance because it has the best ROC curve with AUC = 0.76 (largest); ROC and AUC is calculated using confusion matrixes with different thresholds. It is clearly better than just calling everyone non-diabetes, as suggested in the ROC curve. The large AUC suggests which categorization methods are better, suggesting model4 is the best among all four alternations. "
   ]
  },
  {
   "cell_type": "code",
   "execution_count": 16,
   "metadata": {},
   "outputs": [],
   "source": [
    "#Save your best model weights into a binary file.\n",
    "model4.save_weights('mlp.params')"
   ]
  }
 ],
 "metadata": {
  "kernelspec": {
   "display_name": "Python 3 (ipykernel)",
   "language": "python",
   "name": "python3"
  },
  "language_info": {
   "codemirror_mode": {
    "name": "ipython",
    "version": 3
   },
   "file_extension": ".py",
   "mimetype": "text/x-python",
   "name": "python",
   "nbconvert_exporter": "python",
   "pygments_lexer": "ipython3",
   "version": "3.9.7"
  },
  "toc": {
   "base_numbering": 1,
   "nav_menu": {},
   "number_sections": true,
   "sideBar": true,
   "skip_h1_title": false,
   "title_cell": "Table of Contents",
   "title_sidebar": "Contents",
   "toc_cell": false,
   "toc_position": {},
   "toc_section_display": true,
   "toc_window_display": false
  },
  "varInspector": {
   "cols": {
    "lenName": 16,
    "lenType": 16,
    "lenVar": 40
   },
   "kernels_config": {
    "python": {
     "delete_cmd_postfix": "",
     "delete_cmd_prefix": "del ",
     "library": "var_list.py",
     "varRefreshCmd": "print(var_dic_list())"
    },
    "r": {
     "delete_cmd_postfix": ") ",
     "delete_cmd_prefix": "rm(",
     "library": "var_list.r",
     "varRefreshCmd": "cat(var_dic_list()) "
    }
   },
   "types_to_exclude": [
    "module",
    "function",
    "builtin_function_or_method",
    "instance",
    "_Feature"
   ],
   "window_display": true
  }
 },
 "nbformat": 4,
 "nbformat_minor": 2
}
